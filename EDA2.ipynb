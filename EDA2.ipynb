{
 "cells": [
  {
   "cell_type": "code",
   "execution_count": 2,
   "metadata": {},
   "outputs": [],
   "source": [
    "import json\n",
    "import pandas as pd\n",
    "\n",
    "df = []\n",
    "\n",
    "with open('df_limpio.json') as f: \n",
    "    for line in f.readlines():\n",
    "        df.append(json.loads(line))\n",
    "\n",
    "df_eda = pd.DataFrame(df)"
   ]
  },
  {
   "cell_type": "code",
   "execution_count": 3,
   "metadata": {},
   "outputs": [],
   "source": [
    "df1 = df_eda.copy()"
   ]
  },
  {
   "cell_type": "code",
   "execution_count": 4,
   "metadata": {},
   "outputs": [],
   "source": [
    "df1['release_year'] = df1['release_year'].astype(int)"
   ]
  },
  {
   "cell_type": "code",
   "execution_count": 5,
   "metadata": {},
   "outputs": [
    {
     "data": {
      "text/html": [
       "<div>\n",
       "<style scoped>\n",
       "    .dataframe tbody tr th:only-of-type {\n",
       "        vertical-align: middle;\n",
       "    }\n",
       "\n",
       "    .dataframe tbody tr th {\n",
       "        vertical-align: top;\n",
       "    }\n",
       "\n",
       "    .dataframe thead th {\n",
       "        text-align: right;\n",
       "    }\n",
       "</style>\n",
       "<table border=\"1\" class=\"dataframe\">\n",
       "  <thead>\n",
       "    <tr style=\"text-align: right;\">\n",
       "      <th></th>\n",
       "      <th>genres</th>\n",
       "      <th>title</th>\n",
       "      <th>price</th>\n",
       "      <th>developer</th>\n",
       "      <th>release_year</th>\n",
       "    </tr>\n",
       "  </thead>\n",
       "  <tbody>\n",
       "    <tr>\n",
       "      <th>0</th>\n",
       "      <td>[Action, Casual, Indie, Simulation, Strategy]</td>\n",
       "      <td>Lost Summoner Kitty</td>\n",
       "      <td>4.99</td>\n",
       "      <td>Kotoshiro</td>\n",
       "      <td>2018</td>\n",
       "    </tr>\n",
       "    <tr>\n",
       "      <th>1</th>\n",
       "      <td>[Free to Play, Indie, RPG, Strategy]</td>\n",
       "      <td>Ironbound</td>\n",
       "      <td>0.00</td>\n",
       "      <td>Secret Level SRL</td>\n",
       "      <td>2018</td>\n",
       "    </tr>\n",
       "    <tr>\n",
       "      <th>2</th>\n",
       "      <td>[Casual, Free to Play, Indie, Simulation, Sports]</td>\n",
       "      <td>Real Pool 3D - Poolians</td>\n",
       "      <td>0.00</td>\n",
       "      <td>Poolians.com</td>\n",
       "      <td>2017</td>\n",
       "    </tr>\n",
       "    <tr>\n",
       "      <th>3</th>\n",
       "      <td>[Action, Adventure, Casual]</td>\n",
       "      <td>弹炸人2222</td>\n",
       "      <td>0.99</td>\n",
       "      <td>彼岸领域</td>\n",
       "      <td>2017</td>\n",
       "    </tr>\n",
       "    <tr>\n",
       "      <th>4</th>\n",
       "      <td>[Action, Adventure, Simulation]</td>\n",
       "      <td>Battle Royale Trainer</td>\n",
       "      <td>3.99</td>\n",
       "      <td>Trickjump Games Ltd</td>\n",
       "      <td>2018</td>\n",
       "    </tr>\n",
       "    <tr>\n",
       "      <th>...</th>\n",
       "      <td>...</td>\n",
       "      <td>...</td>\n",
       "      <td>...</td>\n",
       "      <td>...</td>\n",
       "      <td>...</td>\n",
       "    </tr>\n",
       "    <tr>\n",
       "      <th>27574</th>\n",
       "      <td>[Action, Adventure, Casual, Indie]</td>\n",
       "      <td>Kebab it Up!</td>\n",
       "      <td>1.99</td>\n",
       "      <td>Bidoniera Games</td>\n",
       "      <td>2018</td>\n",
       "    </tr>\n",
       "    <tr>\n",
       "      <th>27575</th>\n",
       "      <td>[Casual, Indie, Simulation, Strategy]</td>\n",
       "      <td>Colony On Mars</td>\n",
       "      <td>1.99</td>\n",
       "      <td>Nikita \"Ghost_RUS\"</td>\n",
       "      <td>2018</td>\n",
       "    </tr>\n",
       "    <tr>\n",
       "      <th>27576</th>\n",
       "      <td>[Casual, Indie, Strategy]</td>\n",
       "      <td>LOGistICAL: South Africa</td>\n",
       "      <td>4.99</td>\n",
       "      <td>Sacada</td>\n",
       "      <td>2018</td>\n",
       "    </tr>\n",
       "    <tr>\n",
       "      <th>27577</th>\n",
       "      <td>[Indie, Racing, Simulation]</td>\n",
       "      <td>Russian Roads</td>\n",
       "      <td>1.99</td>\n",
       "      <td>Laush Dmitriy Sergeevich</td>\n",
       "      <td>2018</td>\n",
       "    </tr>\n",
       "    <tr>\n",
       "      <th>27578</th>\n",
       "      <td>[Casual, Indie]</td>\n",
       "      <td>EXIT 2 - Directions</td>\n",
       "      <td>4.99</td>\n",
       "      <td>xropi,stev3ns</td>\n",
       "      <td>2017</td>\n",
       "    </tr>\n",
       "  </tbody>\n",
       "</table>\n",
       "<p>27579 rows × 5 columns</p>\n",
       "</div>"
      ],
      "text/plain": [
       "                                                  genres   \n",
       "0          [Action, Casual, Indie, Simulation, Strategy]  \\\n",
       "1                   [Free to Play, Indie, RPG, Strategy]   \n",
       "2      [Casual, Free to Play, Indie, Simulation, Sports]   \n",
       "3                            [Action, Adventure, Casual]   \n",
       "4                        [Action, Adventure, Simulation]   \n",
       "...                                                  ...   \n",
       "27574                 [Action, Adventure, Casual, Indie]   \n",
       "27575              [Casual, Indie, Simulation, Strategy]   \n",
       "27576                          [Casual, Indie, Strategy]   \n",
       "27577                        [Indie, Racing, Simulation]   \n",
       "27578                                    [Casual, Indie]   \n",
       "\n",
       "                          title  price                 developer  release_year  \n",
       "0           Lost Summoner Kitty   4.99                 Kotoshiro          2018  \n",
       "1                     Ironbound   0.00          Secret Level SRL          2018  \n",
       "2       Real Pool 3D - Poolians   0.00              Poolians.com          2017  \n",
       "3                       弹炸人2222   0.99                      彼岸领域          2017  \n",
       "4         Battle Royale Trainer   3.99       Trickjump Games Ltd          2018  \n",
       "...                         ...    ...                       ...           ...  \n",
       "27574              Kebab it Up!   1.99           Bidoniera Games          2018  \n",
       "27575            Colony On Mars   1.99        Nikita \"Ghost_RUS\"          2018  \n",
       "27576  LOGistICAL: South Africa   4.99                    Sacada          2018  \n",
       "27577             Russian Roads   1.99  Laush Dmitriy Sergeevich          2018  \n",
       "27578       EXIT 2 - Directions   4.99             xropi,stev3ns          2017  \n",
       "\n",
       "[27579 rows x 5 columns]"
      ]
     },
     "execution_count": 5,
     "metadata": {},
     "output_type": "execute_result"
    }
   ],
   "source": [
    "df1.drop('metascore', axis=1)"
   ]
  },
  {
   "cell_type": "code",
   "execution_count": 6,
   "metadata": {},
   "outputs": [],
   "source": [
    "def filter_by_year(year):\n",
    "\n",
    "    return df1[df1['release_year'] == year]\n",
    "    "
   ]
  },
  {
   "cell_type": "code",
   "execution_count": 7,
   "metadata": {},
   "outputs": [],
   "source": [
    "def filter_by_genre(dataframe, genre):\n",
    "    filter_by_genre = dataframe[dataframe['genres'].apply(lambda x: genre in x)]\n",
    "    return filter_by_genre"
   ]
  },
  {
   "cell_type": "code",
   "execution_count": 8,
   "metadata": {},
   "outputs": [],
   "source": [
    "def filter_by_developer(dataframe, developer):\n",
    "    filter_by_developer = dataframe, developer[dataframe['developer'].apply(lambda x: developer in x)]\n",
    "    return filter_by_developer"
   ]
  },
  {
   "cell_type": "code",
   "execution_count": 9,
   "metadata": {},
   "outputs": [
    {
     "data": {
      "text/html": [
       "<div>\n",
       "<style scoped>\n",
       "    .dataframe tbody tr th:only-of-type {\n",
       "        vertical-align: middle;\n",
       "    }\n",
       "\n",
       "    .dataframe tbody tr th {\n",
       "        vertical-align: top;\n",
       "    }\n",
       "\n",
       "    .dataframe thead th {\n",
       "        text-align: right;\n",
       "    }\n",
       "</style>\n",
       "<table border=\"1\" class=\"dataframe\">\n",
       "  <thead>\n",
       "    <tr style=\"text-align: right;\">\n",
       "      <th></th>\n",
       "      <th>genres</th>\n",
       "      <th>title</th>\n",
       "      <th>price</th>\n",
       "      <th>developer</th>\n",
       "      <th>metascore</th>\n",
       "      <th>release_year</th>\n",
       "    </tr>\n",
       "  </thead>\n",
       "  <tbody>\n",
       "    <tr>\n",
       "      <th>0</th>\n",
       "      <td>[Action, Casual, Indie, Simulation, Strategy]</td>\n",
       "      <td>Lost Summoner Kitty</td>\n",
       "      <td>4.99</td>\n",
       "      <td>Kotoshiro</td>\n",
       "      <td>0</td>\n",
       "      <td>2018</td>\n",
       "    </tr>\n",
       "    <tr>\n",
       "      <th>3</th>\n",
       "      <td>[Action, Adventure, Casual]</td>\n",
       "      <td>弹炸人2222</td>\n",
       "      <td>0.99</td>\n",
       "      <td>彼岸领域</td>\n",
       "      <td>0</td>\n",
       "      <td>2017</td>\n",
       "    </tr>\n",
       "    <tr>\n",
       "      <th>4</th>\n",
       "      <td>[Action, Adventure, Simulation]</td>\n",
       "      <td>Battle Royale Trainer</td>\n",
       "      <td>3.99</td>\n",
       "      <td>Trickjump Games Ltd</td>\n",
       "      <td>0</td>\n",
       "      <td>2018</td>\n",
       "    </tr>\n",
       "    <tr>\n",
       "      <th>8</th>\n",
       "      <td>[Action, Adventure, Casual, Indie, RPG]</td>\n",
       "      <td>Army of Tentacles: (Not) A Cthulhu Dating Sim:...</td>\n",
       "      <td>10.99</td>\n",
       "      <td>Stegalosaurus Game Development</td>\n",
       "      <td>0</td>\n",
       "      <td>2018</td>\n",
       "    </tr>\n",
       "    <tr>\n",
       "      <th>15</th>\n",
       "      <td>[Action, Adventure, Indie]</td>\n",
       "      <td>The Warrior Of Treasures</td>\n",
       "      <td>0.99</td>\n",
       "      <td>Tero Lunkka</td>\n",
       "      <td>0</td>\n",
       "      <td>2018</td>\n",
       "    </tr>\n",
       "    <tr>\n",
       "      <th>...</th>\n",
       "      <td>...</td>\n",
       "      <td>...</td>\n",
       "      <td>...</td>\n",
       "      <td>...</td>\n",
       "      <td>...</td>\n",
       "      <td>...</td>\n",
       "    </tr>\n",
       "    <tr>\n",
       "      <th>27565</th>\n",
       "      <td>[Action, Casual, Indie]</td>\n",
       "      <td>Chicken Shoot Gold</td>\n",
       "      <td>6.99</td>\n",
       "      <td>ToonTRAXX Studios</td>\n",
       "      <td>0</td>\n",
       "      <td>2003</td>\n",
       "    </tr>\n",
       "    <tr>\n",
       "      <th>27566</th>\n",
       "      <td>[Action]</td>\n",
       "      <td>Day of Defeat</td>\n",
       "      <td>4.99</td>\n",
       "      <td>Valve</td>\n",
       "      <td>79</td>\n",
       "      <td>2003</td>\n",
       "    </tr>\n",
       "    <tr>\n",
       "      <th>27568</th>\n",
       "      <td>[Action]</td>\n",
       "      <td>Unreal Tournament 2004: Editor's Choice Edition</td>\n",
       "      <td>14.99</td>\n",
       "      <td>Epic Games, Inc.</td>\n",
       "      <td>93</td>\n",
       "      <td>2004</td>\n",
       "    </tr>\n",
       "    <tr>\n",
       "      <th>27569</th>\n",
       "      <td>[Action]</td>\n",
       "      <td>Counter-Strike: Condition Zero</td>\n",
       "      <td>9.99</td>\n",
       "      <td>Valve</td>\n",
       "      <td>65</td>\n",
       "      <td>2004</td>\n",
       "    </tr>\n",
       "    <tr>\n",
       "      <th>27574</th>\n",
       "      <td>[Action, Adventure, Casual, Indie]</td>\n",
       "      <td>Kebab it Up!</td>\n",
       "      <td>1.99</td>\n",
       "      <td>Bidoniera Games</td>\n",
       "      <td>0</td>\n",
       "      <td>2018</td>\n",
       "    </tr>\n",
       "  </tbody>\n",
       "</table>\n",
       "<p>10698 rows × 6 columns</p>\n",
       "</div>"
      ],
      "text/plain": [
       "                                              genres   \n",
       "0      [Action, Casual, Indie, Simulation, Strategy]  \\\n",
       "3                        [Action, Adventure, Casual]   \n",
       "4                    [Action, Adventure, Simulation]   \n",
       "8            [Action, Adventure, Casual, Indie, RPG]   \n",
       "15                        [Action, Adventure, Indie]   \n",
       "...                                              ...   \n",
       "27565                        [Action, Casual, Indie]   \n",
       "27566                                       [Action]   \n",
       "27568                                       [Action]   \n",
       "27569                                       [Action]   \n",
       "27574             [Action, Adventure, Casual, Indie]   \n",
       "\n",
       "                                                   title  price   \n",
       "0                                    Lost Summoner Kitty   4.99  \\\n",
       "3                                                弹炸人2222   0.99   \n",
       "4                                  Battle Royale Trainer   3.99   \n",
       "8      Army of Tentacles: (Not) A Cthulhu Dating Sim:...  10.99   \n",
       "15                              The Warrior Of Treasures   0.99   \n",
       "...                                                  ...    ...   \n",
       "27565                                 Chicken Shoot Gold   6.99   \n",
       "27566                                      Day of Defeat   4.99   \n",
       "27568    Unreal Tournament 2004: Editor's Choice Edition  14.99   \n",
       "27569                     Counter-Strike: Condition Zero   9.99   \n",
       "27574                                       Kebab it Up!   1.99   \n",
       "\n",
       "                            developer metascore  release_year  \n",
       "0                           Kotoshiro         0          2018  \n",
       "3                                彼岸领域         0          2017  \n",
       "4                 Trickjump Games Ltd         0          2018  \n",
       "8      Stegalosaurus Game Development         0          2018  \n",
       "15                        Tero Lunkka         0          2018  \n",
       "...                               ...       ...           ...  \n",
       "27565               ToonTRAXX Studios         0          2003  \n",
       "27566                           Valve        79          2003  \n",
       "27568                Epic Games, Inc.        93          2004  \n",
       "27569                           Valve        65          2004  \n",
       "27574                 Bidoniera Games         0          2018  \n",
       "\n",
       "[10698 rows x 6 columns]"
      ]
     },
     "execution_count": 9,
     "metadata": {},
     "output_type": "execute_result"
    }
   ],
   "source": [
    "filter_by_genre(df1, 'Action')"
   ]
  },
  {
   "cell_type": "markdown",
   "metadata": {},
   "source": [
    "Promedio precio por Genero\n",
    "\n"
   ]
  },
  {
   "cell_type": "code",
   "execution_count": 10,
   "metadata": {},
   "outputs": [],
   "source": [
    "\n",
    "def precio_por_genero(genre, year):\n",
    "    filtro_year = filter_by_year(year)\n",
    "\n",
    "    filtro_genre = filter_by_genre(filtro_year, genre)\n",
    "    \n",
    "    cantidad_registros = len(filtro_genre)\n",
    "    precio_total = filtro_genre['price'].sum()\n",
    "\n",
    "    promedio_precio = [precio_total / cantidad_registros]\n",
    "\n",
    "    return promedio_precio"
   ]
  },
  {
   "cell_type": "code",
   "execution_count": 11,
   "metadata": {},
   "outputs": [
    {
     "data": {
      "text/plain": [
       "[14.99]"
      ]
     },
     "execution_count": 11,
     "metadata": {},
     "output_type": "execute_result"
    }
   ],
   "source": [
    "precio_por_genero('Action', 2019)"
   ]
  },
  {
   "cell_type": "markdown",
   "metadata": {},
   "source": [
    "Promedio precio por Developer"
   ]
  },
  {
   "cell_type": "code",
   "execution_count": 110,
   "metadata": {},
   "outputs": [],
   "source": [
    "#no tenia mucho sentido lo que estaba haciendo, lo dejo para más adelante."
   ]
  },
  {
   "cell_type": "code",
   "execution_count": 14,
   "metadata": {},
   "outputs": [
    {
     "name": "stdout",
     "output_type": "stream",
     "text": [
      "Variaciones únicas en la columna 'genres':\n",
      "Action\n",
      "Accounting\n",
      "RPG\n",
      "Audio Production\n",
      "Animation &amp; Modeling\n",
      "Massively Multiplayer\n",
      "Utilities\n",
      "Casual\n",
      "Design &amp; Illustration\n",
      "Adventure\n",
      "Web Publishing\n",
      "Free to Play\n",
      "Software Training\n",
      "Racing\n",
      "Photo Editing\n",
      "Indie\n",
      "Sports\n",
      "Simulation\n",
      "Early Access\n",
      "Strategy\n",
      "Video Production\n",
      "Education\n"
     ]
    }
   ],
   "source": [
    "#traigo todos los generos para poder probarlos\n",
    "all_genres_lists = df1['genres'].tolist()\n",
    "\n",
    "#valores unicos\n",
    "unique_genres = list(set([genre for sublist in all_genres_lists if isinstance(sublist, list) for genre in sublist]))\n",
    "\n",
    "#enlisto\n",
    "print(\"Variaciones únicas en la columna 'genres':\")\n",
    "for genre in unique_genres:\n",
    "    print(genre)"
   ]
  },
  {
   "cell_type": "code",
   "execution_count": 43,
   "metadata": {},
   "outputs": [
    {
     "data": {
      "text/plain": [
       "[35.12086956521739]"
      ]
     },
     "execution_count": 43,
     "metadata": {},
     "output_type": "execute_result"
    }
   ],
   "source": [
    "precio_por_genero('Education', 2015)"
   ]
  },
  {
   "cell_type": "markdown",
   "metadata": {},
   "source": [
    "Vi la necesidad de separar los generos en un dataframe nuevo."
   ]
  },
  {
   "cell_type": "code",
   "execution_count": 18,
   "metadata": {},
   "outputs": [
    {
     "name": "stdout",
     "output_type": "stream",
     "text": [
      "            genre  price  release_year\n",
      "0          Action   4.99          2018\n",
      "1          Casual   4.99          2018\n",
      "2           Indie   4.99          2018\n",
      "3      Simulation   4.99          2018\n",
      "4        Strategy   4.99          2018\n",
      "...           ...    ...           ...\n",
      "68249       Indie   1.99          2018\n",
      "68250      Racing   1.99          2018\n",
      "68251  Simulation   1.99          2018\n",
      "68252      Casual   4.99          2017\n",
      "68253       Indie   4.99          2017\n",
      "\n",
      "[68254 rows x 3 columns]\n"
     ]
    }
   ],
   "source": [
    "new_data = []\n",
    "\n",
    "for _, row in df1.iterrows():\n",
    "    array_data = row['genres']\n",
    "    price = row['price']\n",
    "    release_year = row['release_year']\n",
    "    \n",
    "    #recorro cada elemento del array y creo un nuevo registro por cada uno (inviable la cantidad de datos, pero en este momento lo veo necesario)\n",
    "    for genre in array_data:\n",
    "        new_row = {\n",
    "            'genre': genre,\n",
    "            'price': price,\n",
    "            'release_year': release_year\n",
    "\n",
    "        }\n",
    "        new_data.append(new_row)\n",
    "\n",
    "#nuevo dataframe\n",
    "genres_df = pd.DataFrame(new_data)\n",
    "\n",
    "\n",
    "print(genres_df)"
   ]
  },
  {
   "cell_type": "code",
   "execution_count": 11,
   "metadata": {},
   "outputs": [],
   "source": [
    "#me parece contradictorío que exista un genero \"Free to play\" que tenga precio.\n",
    "df1 = df1.drop(df1[df1['genres'].isin(['Free to play', 'Early Access'])].index)\n"
   ]
  },
  {
   "cell_type": "code",
   "execution_count": 12,
   "metadata": {},
   "outputs": [
    {
     "name": "stdout",
     "output_type": "stream",
     "text": [
      "                                                  genres   \n",
      "0          [Action, Casual, Indie, Simulation, Strategy]  \\\n",
      "1                   [Free to Play, Indie, RPG, Strategy]   \n",
      "2      [Casual, Free to Play, Indie, Simulation, Sports]   \n",
      "3                            [Action, Adventure, Casual]   \n",
      "4                        [Action, Adventure, Simulation]   \n",
      "...                                                  ...   \n",
      "27574                 [Action, Adventure, Casual, Indie]   \n",
      "27575              [Casual, Indie, Simulation, Strategy]   \n",
      "27576                          [Casual, Indie, Strategy]   \n",
      "27577                        [Indie, Racing, Simulation]   \n",
      "27578                                    [Casual, Indie]   \n",
      "\n",
      "                          title  price                 developer metascore   \n",
      "0           Lost Summoner Kitty   4.99                 Kotoshiro         0  \\\n",
      "1                     Ironbound   0.00          Secret Level SRL         0   \n",
      "2       Real Pool 3D - Poolians   0.00              Poolians.com         0   \n",
      "3                       弹炸人2222   0.99                      彼岸领域         0   \n",
      "4         Battle Royale Trainer   3.99       Trickjump Games Ltd         0   \n",
      "...                         ...    ...                       ...       ...   \n",
      "27574              Kebab it Up!   1.99           Bidoniera Games         0   \n",
      "27575            Colony On Mars   1.99        Nikita \"Ghost_RUS\"         0   \n",
      "27576  LOGistICAL: South Africa   4.99                    Sacada         0   \n",
      "27577             Russian Roads   1.99  Laush Dmitriy Sergeevich         0   \n",
      "27578       EXIT 2 - Directions   4.99             xropi,stev3ns         0   \n",
      "\n",
      "       release_year  \n",
      "0              2018  \n",
      "1              2018  \n",
      "2              2017  \n",
      "3              2017  \n",
      "4              2018  \n",
      "...             ...  \n",
      "27574          2018  \n",
      "27575          2018  \n",
      "27576          2018  \n",
      "27577          2018  \n",
      "27578          2017  \n",
      "\n",
      "[27579 rows x 6 columns]\n"
     ]
    }
   ],
   "source": [
    "df1['genres'] = df1['genres'].replace({\n",
    "    'Design &amp; Illustration':'Illustration',\n",
    "    'Animation &amp; Modeling': 'Modeling'\n",
    "})\n",
    "\n",
    "print(df1)"
   ]
  },
  {
   "cell_type": "code",
   "execution_count": 19,
   "metadata": {},
   "outputs": [
    {
     "ename": "NameError",
     "evalue": "name 'genres_df' is not defined",
     "output_type": "error",
     "traceback": [
      "\u001b[1;31m---------------------------------------------------------------------------\u001b[0m",
      "\u001b[1;31mNameError\u001b[0m                                 Traceback (most recent call last)",
      "Cell \u001b[1;32mIn[19], line 2\u001b[0m\n\u001b[0;32m      1\u001b[0m \u001b[39m#medias de precios para cada género\u001b[39;00m\n\u001b[1;32m----> 2\u001b[0m mean_prices_by_genre \u001b[39m=\u001b[39m genres_df\u001b[39m.\u001b[39mgroupby(\u001b[39m'\u001b[39m\u001b[39mgenre\u001b[39m\u001b[39m'\u001b[39m)[\u001b[39m'\u001b[39m\u001b[39mprice\u001b[39m\u001b[39m'\u001b[39m]\u001b[39m.\u001b[39mmean()\n\u001b[0;32m      4\u001b[0m \u001b[39mprint\u001b[39m(\u001b[39m\"\u001b[39m\u001b[39mMedias de precios por género:\u001b[39m\u001b[39m\"\u001b[39m)\n\u001b[0;32m      5\u001b[0m \u001b[39mprint\u001b[39m(mean_prices_by_genre)\n",
      "\u001b[1;31mNameError\u001b[0m: name 'genres_df' is not defined"
     ]
    }
   ],
   "source": [
    "#medias de precios para cada género\n",
    "mean_prices_by_genre = genres_df.groupby('genre')['price'].mean()\n",
    "\n",
    "print(\"Medias de precios por género:\")\n",
    "print(mean_prices_by_genre)"
   ]
  },
  {
   "cell_type": "code",
   "execution_count": 23,
   "metadata": {},
   "outputs": [
    {
     "name": "stdout",
     "output_type": "stream",
     "text": [
      "Correlación entre price y release_year en genres: 0.001577051530909596\n",
      "Correlación entre price y release_year en df1: 0.0077355204536967235\n"
     ]
    }
   ],
   "source": [
    "correlation_genres = genres_df['price'].corr(genres_df['release_year'])\n",
    "correlation_developer = df1['price'].corr(df1['release_year'])\n",
    "\n",
    "print(\"Correlación entre price y release_year en genres:\", correlation_genres)\n",
    "print(\"Correlación entre price y release_year en df1:\", correlation_developer)\n",
    "\n",
    "#buscar correlación el price con release_year de ambos dataframes de manera global ====> [ no tiene sentido ], según los datos que estuve analizando, el año y el developer parecen influir bastante en el precio.\n",
    "# tengo que segmentar las fechas en rangos para ver esto.\n",
    "# tengo ver de que manera influyen los developers en el price."
   ]
  },
  {
   "cell_type": "code",
   "execution_count": 44,
   "metadata": {},
   "outputs": [],
   "source": [
    "#creo rangos de años que considero que agrupan precios similares.\n",
    "year_ranges = [(1990, 2000),(2001, 2007), (2008, 2013), (2014, 2019)]\n",
    "\n",
    "#les pongo nombre a los rangos\n",
    "def group_by_year_range(year):\n",
    "    for i, (start, end) in enumerate(year_ranges):\n",
    "        if start <= year <= end:\n",
    "            return f\"YearRange_{i}\"\n",
    "\n",
    "#creo una columna para indicar el rango al que pertenece cada fila\n",
    "df1['year_range'] = df1['release_year'].apply(group_by_year_range)\n"
   ]
  },
  {
   "cell_type": "code",
   "execution_count": 45,
   "metadata": {},
   "outputs": [
    {
     "data": {
      "text/plain": [
       "'YearRange_3'"
      ]
     },
     "execution_count": 45,
     "metadata": {},
     "output_type": "execute_result"
    }
   ],
   "source": [
    "group_by_year_range(2018)"
   ]
  },
  {
   "cell_type": "code",
   "execution_count": 24,
   "metadata": {},
   "outputs": [
    {
     "name": "stdout",
     "output_type": "stream",
     "text": [
      "spearman: -0.04904274146516378\n",
      "p: 3.668664412753325e-16\n"
     ]
    }
   ],
   "source": [
    "import pandas as pd\n",
    "from scipy.stats import spearmanr\n",
    "\n",
    "\n",
    "#coeficiente de correlación de rangos de Spearman\n",
    "correlation, p_value = spearmanr(df1['developer'], df1['price'])\n",
    "\n",
    "print(f\"spearman: {correlation}\")\n",
    "print(f\"p: {p_value}\")"
   ]
  },
  {
   "cell_type": "markdown",
   "metadata": {},
   "source": [
    "Voy a guardar un nuevo json, limpiando un par de datos más."
   ]
  },
  {
   "cell_type": "code",
   "execution_count": 1,
   "metadata": {},
   "outputs": [
    {
     "ename": "NameError",
     "evalue": "name 'df1' is not defined",
     "output_type": "error",
     "traceback": [
      "\u001b[1;31m---------------------------------------------------------------------------\u001b[0m",
      "\u001b[1;31mNameError\u001b[0m                                 Traceback (most recent call last)",
      "Cell \u001b[1;32mIn[1], line 3\u001b[0m\n\u001b[0;32m      1\u001b[0m \u001b[39m#Voy a guardar todos los cambios que hice, en un json nuevo y de ahi voy a consultar los endpoint.\u001b[39;00m\n\u001b[0;32m      2\u001b[0m df_limpio \u001b[39m=\u001b[39m \u001b[39m'\u001b[39m\u001b[39mdf_limpio.json\u001b[39m\u001b[39m'\u001b[39m\n\u001b[1;32m----> 3\u001b[0m df1\u001b[39m.\u001b[39mto_json(df_limpio, orient\u001b[39m=\u001b[39m\u001b[39m'\u001b[39m\u001b[39mrecords\u001b[39m\u001b[39m'\u001b[39m, lines\u001b[39m=\u001b[39m\u001b[39mTrue\u001b[39;00m)\n",
      "\u001b[1;31mNameError\u001b[0m: name 'df1' is not defined"
     ]
    }
   ],
   "source": [
    "#Voy a guardar todos los cambios que hice, en un json nuevo y de ahi voy a consultar los endpoint.\n",
    "df_limpio = 'df_limpio.json'\n",
    "df1.to_json(df_limpio, orient='records', lines=True)"
   ]
  }
 ],
 "metadata": {
  "kernelspec": {
   "display_name": "Python 3",
   "language": "python",
   "name": "python3"
  },
  "language_info": {
   "codemirror_mode": {
    "name": "ipython",
    "version": 3
   },
   "file_extension": ".py",
   "mimetype": "text/x-python",
   "name": "python",
   "nbconvert_exporter": "python",
   "pygments_lexer": "ipython3",
   "version": "3.11.4"
  },
  "orig_nbformat": 4
 },
 "nbformat": 4,
 "nbformat_minor": 2
}
